{
 "cells": [
  {
   "cell_type": "code",
   "execution_count": null,
   "id": "63898035",
   "metadata": {},
   "outputs": [],
   "source": [
    "# installing library "
   ]
  },
  {
   "cell_type": "code",
   "execution_count": null,
   "id": "36152f76",
   "metadata": {},
   "outputs": [],
   "source": [
    "pip install pyshorteners"
   ]
  },
  {
   "cell_type": "code",
   "execution_count": null,
   "id": "295331fc",
   "metadata": {},
   "outputs": [],
   "source": [
    "# program "
   ]
  },
  {
   "cell_type": "code",
   "execution_count": 1,
   "id": "9a61f730",
   "metadata": {},
   "outputs": [],
   "source": [
    "''' Python Projects : URL Shortener using Python Tkinter '''\n",
    "\n",
    "# importing library\n",
    "from tkinter import *\n",
    "import pyshorteners\n",
    "from PIL import Image , ImageTk\n",
    "\n",
    "\n",
    "# The Class: URL Shortener.\n",
    "class URL_Shortener:\n",
    "    def __init__(self, root):\n",
    "        self.window = root\n",
    "        self.window.geometry(\"500x300\")\n",
    "        self.window.title(\"URL Shortener\")\n",
    "        \n",
    "        \n",
    "        # Background image of the Background.\n",
    "        self.image = Image.open(\"H:\\internshala course (python programming)\\images\\g.png\")\n",
    "        self.bg_image = ImageTk.PhotoImage(self.image)\n",
    "        self.background = Label(self.window, image=self.bg_image) \n",
    "        self.background.place(x=0,y=0,relwidth=1,relheight=1)\n",
    "        \n",
    "        \n",
    "        # labels\n",
    "        self.longurl_label = Label(root, text=\"Enter original URL\",fg=\"red\",bg=\"white\",font=5)\n",
    "        self.longurl_label.pack(padx=5,pady=10)\n",
    "        self.longurl_entry = Entry(root)\n",
    "        self.longurl_entry.pack(padx=5,pady=12)\n",
    "        self.shorturl_label=Label(root, text=\"Output: shortened URL\",fg=\"red\",bg=\"white\",font=5) \n",
    "        self.shorturl_label.pack(padx=5,pady=15)\n",
    "        self.shorturl_entry = Entry(root)\n",
    "        self.shorturl_entry.pack(padx=5,pady=17)\n",
    "        \n",
    "        \n",
    "        # Button \n",
    "        self.shorten_button = Button(root, text=\"Shorten URL\", command=self.shorten,bg=\"white\",fg=\"blue\",font=7)\n",
    "        self.shorten_button.pack(padx=5,pady=20)\n",
    "        \n",
    "   \n",
    "\n",
    "    # Function will shortener the URL \n",
    "    def shorten(self):\n",
    "        self.shortener = pyshorteners.Shortener()\n",
    "        self.short_url = self.shortener.tinyurl.short(self.longurl_entry.get())\n",
    "        print(self.shorturl_entry.insert(0, self.short_url)) \n",
    "    \n",
    "        \n",
    "        \n",
    "# The main function.\n",
    "if __name__ == \"__main__\":\n",
    "    root = Tk()\n",
    "    # Object of URL Shortener.\n",
    "    obj = URL_Shortener(root)\n",
    "    root.mainloop()"
   ]
  }
 ],
 "metadata": {
  "kernelspec": {
   "display_name": "Python 3 (ipykernel)",
   "language": "python",
   "name": "python3"
  },
  "language_info": {
   "codemirror_mode": {
    "name": "ipython",
    "version": 3
   },
   "file_extension": ".py",
   "mimetype": "text/x-python",
   "name": "python",
   "nbconvert_exporter": "python",
   "pygments_lexer": "ipython3",
   "version": "3.10.9"
  }
 },
 "nbformat": 4,
 "nbformat_minor": 5
}
